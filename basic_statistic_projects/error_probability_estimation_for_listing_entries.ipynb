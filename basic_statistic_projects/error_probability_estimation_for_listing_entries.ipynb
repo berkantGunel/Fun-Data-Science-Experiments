{
 "cells": [
  {
   "cell_type": "markdown",
   "id": "1ba4697c",
   "metadata": {},
   "source": [
    "# Error Probability Estimation for Listing Entries"
   ]
  },
  {
   "cell_type": "markdown",
   "id": "c94a768e",
   "metadata": {},
   "source": [
    "This notebook estimates the probability of ad clicks using the **Binomial distribution**.  \n",
    "It helps marketers understand the likelihood of different numbers of clicks across multiple ad impressions.\n"
   ]
  },
  {
   "cell_type": "code",
   "execution_count": 14,
   "id": "5255cb0e",
   "metadata": {},
   "outputs": [],
   "source": [
    "import numpy as np\n",
    "import matplotlib.pyplot as plt\n",
    "from scipy.stats import binom\n"
   ]
  },
  {
   "cell_type": "code",
   "execution_count": 15,
   "id": "f789a0f3",
   "metadata": {},
   "outputs": [],
   "source": [
    "n = int(input(\"Enter number of ad impressions (n, default 100): \") or 100)\n",
    "p = float(input(\"Enter click probability (p, default 0.01): \") or 0.01)\n",
    "max_k = int(input(\"Enter max number of clicks to calculate (default 20): \") or 20)\n"
   ]
  },
  {
   "cell_type": "code",
   "execution_count": 17,
   "id": "122ac049",
   "metadata": {},
   "outputs": [
    {
     "name": "stdout",
     "output_type": "stream",
     "text": [
      "\n",
      "Binomial Distribution (n=100, p=0.01)\n",
      "----------------------------------------\n",
      "P(X = 0) = 0.366032\n",
      "P(X = 1) = 0.369730\n",
      "P(X = 2) = 0.184865\n",
      "P(X = 3) = 0.060999\n",
      "P(X = 4) = 0.014942\n",
      "P(X = 5) = 0.002898\n",
      "P(X = 6) = 0.000463\n",
      "P(X = 7) = 0.000063\n",
      "P(X = 8) = 0.000007\n",
      "P(X = 9) = 0.000001\n",
      "P(X = 10) = 0.000000\n",
      "P(X = 11) = 0.000000\n",
      "P(X = 12) = 0.000000\n",
      "P(X = 13) = 0.000000\n",
      "P(X = 14) = 0.000000\n",
      "P(X = 15) = 0.000000\n",
      "P(X = 16) = 0.000000\n",
      "P(X = 17) = 0.000000\n",
      "P(X = 18) = 0.000000\n",
      "P(X = 19) = 0.000000\n",
      "P(X = 20) = 0.000000\n"
     ]
    }
   ],
   "source": [
    "rv = binom(n, p)\n",
    "probabilities = {k: rv.pmf(k) for k in range(max_k + 1)}\n",
    "\n",
    "print(f\"\\nBinomial Distribution (n={n}, p={p})\")\n",
    "print(\"-\" * 40)\n",
    "for k, prob in probabilities.items():\n",
    "    print(f\"P(X = {k}) = {prob:.6f}\")\n"
   ]
  },
  {
   "cell_type": "code",
   "execution_count": 18,
   "id": "3f1b11d3",
   "metadata": {},
   "outputs": [
    {
     "name": "stdout",
     "output_type": "stream",
     "text": [
      "→ Probability of 1 clicks: 0.369730\n",
      "→ Probability of 5 clicks: 0.002898\n",
      "→ Probability of 10 clicks: 0.000000\n"
     ]
    }
   ],
   "source": [
    "for k in [1, 5, 10]:\n",
    "    if k in probabilities:\n",
    "        print(f\"→ Probability of {k} clicks: {probabilities[k]:.6f}\")\n"
   ]
  },
  {
   "cell_type": "code",
   "execution_count": 19,
   "id": "21ff0317",
   "metadata": {},
   "outputs": [
    {
     "data": {
      "image/png": "[encoded data removed]",
      "text/plain": [
       "<Figure size 800x500 with 1 Axes>"
      ]
     },
     "metadata": {},
     "output_type": "display_data"
    }
   ],
   "source": [
    "plt.figure(figsize=(8,5))\n",
    "plt.bar(probabilities.keys(), probabilities.values(), color='skyblue', alpha=0.7)\n",
    "plt.title(f\"Binomial Distribution PMF (n={n}, p={p})\")\n",
    "plt.xlabel(\"Number of Clicks\")\n",
    "plt.ylabel(\"Probability\")\n",
    "plt.grid(alpha=0.3)\n",
    "plt.show()\n"
   ]
  },
  {
   "cell_type": "markdown",
   "id": "96b58993",
   "metadata": {},
   "source": [
    "A small Python project to calculate ad click probabilities using the Binomial distribution.\n",
    "This helps understand how likely it is to get 1, 5, 10, or more clicks from a set of ad impressions.\n",
    "\n",
    "Features\n",
    "\n",
    "Calculates the probability for different numbers of clicks\n",
    "\n",
    "Highlights specific click counts (1, 5, 10)\n",
    "\n",
    "Plots a simple bar chart of the click probability distribution\n",
    "\n",
    "Easy to change number of impressions (n) and click probability (p)"
   ]
  },
  {
   "cell_type": "markdown",
   "id": "c191f90c",
   "metadata": {},
   "source": []
  }
 ],
 "metadata": {
  "kernelspec": {
   "display_name": "base",
   "language": "python",
   "name": "python3"
  },
  "language_info": {
   "codemirror_mode": {
    "name": "ipython",
    "version": 3
   },
   "file_extension": ".py",
   "mimetype": "text/x-python",
   "name": "python",
   "nbconvert_exporter": "python",
   "pygments_lexer": "ipython3",
   "version": "3.12.4"
  }
 },
 "nbformat": 4,
 "nbformat_minor": 5
}
