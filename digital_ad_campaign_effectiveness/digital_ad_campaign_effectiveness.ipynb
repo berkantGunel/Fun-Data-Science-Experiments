{
 "cells": [
  {
   "cell_type": "markdown",
   "id": "9377fba9",
   "metadata": {},
   "source": [
    "# **DIGITAL AD CAMPAIGN EFFECTİVENESS**\n",
    "#### Satış geliri tahmin etme."
   ]
  },
  {
   "cell_type": "code",
   "execution_count": 17,
   "id": "9e8c5f86",
   "metadata": {},
   "outputs": [
    {
     "data": {
      "application/vnd.microsoft.datawrangler.viewer.v0+json": {
       "columns": [
        {
         "name": "index",
         "rawType": "int64",
         "type": "integer"
        },
        {
         "name": "Google_Ads_Spend",
         "rawType": "int32",
         "type": "integer"
        },
        {
         "name": "Instagram_Ads_Spend",
         "rawType": "int32",
         "type": "integer"
        },
        {
         "name": "TikTok_Ads_Spend",
         "rawType": "int32",
         "type": "integer"
        },
        {
         "name": "Email_Marketing_Spend",
         "rawType": "int32",
         "type": "integer"
        },
        {
         "name": "Weekly_Sales",
         "rawType": "float64",
         "type": "float"
        }
       ],
       "ref": "23c93b6a-be8c-4820-b2d3-e9c30333dbf9",
       "rows": [
        [
         "0",
         "4174",
         "1062",
         "564",
         "195",
         "24.53494319153274"
        ],
        [
         "1",
         "4507",
         "2399",
         "1020",
         "584",
         "37.167958738659294"
        ],
        [
         "2",
         "1860",
         "1767",
         "1867",
         "506",
         "27.87644919548836"
        ],
        [
         "3",
         "2294",
         "2028",
         "1652",
         "330",
         "27.61649537800978"
        ],
        [
         "4",
         "2130",
         "1146",
         "1147",
         "754",
         "22.143468165564343"
        ]
       ],
       "shape": {
        "columns": 5,
        "rows": 5
       }
      },
      "text/html": [
       "<div>\n",
       "<style scoped>\n",
       "    .dataframe tbody tr th:only-of-type {\n",
       "        vertical-align: middle;\n",
       "    }\n",
       "\n",
       "    .dataframe tbody tr th {\n",
       "        vertical-align: top;\n",
       "    }\n",
       "\n",
       "    .dataframe thead th {\n",
       "        text-align: right;\n",
       "    }\n",
       "</style>\n",
       "<table border=\"1\" class=\"dataframe\">\n",
       "  <thead>\n",
       "    <tr style=\"text-align: right;\">\n",
       "      <th></th>\n",
       "      <th>Google_Ads_Spend</th>\n",
       "      <th>Instagram_Ads_Spend</th>\n",
       "      <th>TikTok_Ads_Spend</th>\n",
       "      <th>Email_Marketing_Spend</th>\n",
       "      <th>Weekly_Sales</th>\n",
       "    </tr>\n",
       "  </thead>\n",
       "  <tbody>\n",
       "    <tr>\n",
       "      <th>0</th>\n",
       "      <td>4174</td>\n",
       "      <td>1062</td>\n",
       "      <td>564</td>\n",
       "      <td>195</td>\n",
       "      <td>24.534943</td>\n",
       "    </tr>\n",
       "    <tr>\n",
       "      <th>1</th>\n",
       "      <td>4507</td>\n",
       "      <td>2399</td>\n",
       "      <td>1020</td>\n",
       "      <td>584</td>\n",
       "      <td>37.167959</td>\n",
       "    </tr>\n",
       "    <tr>\n",
       "      <th>2</th>\n",
       "      <td>1860</td>\n",
       "      <td>1767</td>\n",
       "      <td>1867</td>\n",
       "      <td>506</td>\n",
       "      <td>27.876449</td>\n",
       "    </tr>\n",
       "    <tr>\n",
       "      <th>3</th>\n",
       "      <td>2294</td>\n",
       "      <td>2028</td>\n",
       "      <td>1652</td>\n",
       "      <td>330</td>\n",
       "      <td>27.616495</td>\n",
       "    </tr>\n",
       "    <tr>\n",
       "      <th>4</th>\n",
       "      <td>2130</td>\n",
       "      <td>1146</td>\n",
       "      <td>1147</td>\n",
       "      <td>754</td>\n",
       "      <td>22.143468</td>\n",
       "    </tr>\n",
       "  </tbody>\n",
       "</table>\n",
       "</div>"
      ],
      "text/plain": [
       "   Google_Ads_Spend  Instagram_Ads_Spend  TikTok_Ads_Spend  \\\n",
       "0              4174                 1062               564   \n",
       "1              4507                 2399              1020   \n",
       "2              1860                 1767              1867   \n",
       "3              2294                 2028              1652   \n",
       "4              2130                 1146              1147   \n",
       "\n",
       "   Email_Marketing_Spend  Weekly_Sales  \n",
       "0                    195     24.534943  \n",
       "1                    584     37.167959  \n",
       "2                    506     27.876449  \n",
       "3                    330     27.616495  \n",
       "4                    754     22.143468  "
      ]
     },
     "execution_count": 17,
     "metadata": {},
     "output_type": "execute_result"
    }
   ],
   "source": [
    "#roi = return on investment\n",
    "import pandas as pd\n",
    "import numpy as np\n",
    "\n",
    "# Rastgele veri üretelim (ama gerçekçi aralıklarla)\n",
    "np.random.seed(42)\n",
    "df = pd.DataFrame({\n",
    "    'Google_Ads_Spend': np.random.randint(1000, 5000, 50),\n",
    "    'Instagram_Ads_Spend': np.random.randint(500, 3000, 50),\n",
    "    'TikTok_Ads_Spend': np.random.randint(500, 2000, 50),\n",
    "    'Email_Marketing_Spend': np.random.randint(100, 800, 50)\n",
    "})\n",
    "\n",
    "# Satış = her kanalın ağırlıklı etkisi + biraz gürültü\n",
    "df['Weekly_Sales'] = (\n",
    "    5\n",
    "    + 0.003*df['Google_Ads_Spend']\n",
    "    + 0.005*df['Instagram_Ads_Spend']\n",
    "    + 0.004*df['TikTok_Ads_Spend']\n",
    "    + 0.002*df['Email_Marketing_Spend']\n",
    "    + np.random.normal(0, 1, 50)  # rastgelelik\n",
    ")\n",
    "\n",
    "df.head()\n"
   ]
  },
  {
   "cell_type": "code",
   "execution_count": 2,
   "id": "148493ef",
   "metadata": {},
   "outputs": [
    {
     "name": "stdout",
     "output_type": "stream",
     "text": [
      "                            OLS Regression Results                            \n",
      "==============================================================================\n",
      "Dep. Variable:           Weekly_Sales   R-squared:                       0.979\n",
      "Model:                            OLS   Adj. R-squared:                  0.977\n",
      "Method:                 Least Squares   F-statistic:                     531.8\n",
      "Date:                Cum, 24 Eki 2025   Prob (F-statistic):           3.02e-37\n",
      "Time:                        02:15:05   Log-Likelihood:                -64.801\n",
      "No. Observations:                  50   AIC:                             139.6\n",
      "Df Residuals:                      45   BIC:                             149.2\n",
      "Df Model:                           4                                         \n",
      "Covariance Type:            nonrobust                                         \n",
      "=========================================================================================\n",
      "                            coef    std err          t      P>|t|      [0.025      0.975]\n",
      "-----------------------------------------------------------------------------------------\n",
      "const                     3.7417      0.694      5.392      0.000       2.344       5.139\n",
      "Google_Ads_Spend          0.0031      0.000     26.099      0.000       0.003       0.003\n",
      "Instagram_Ads_Spend       0.0050      0.000     25.945      0.000       0.005       0.005\n",
      "TikTok_Ads_Spend          0.0045      0.000     13.058      0.000       0.004       0.005\n",
      "Email_Marketing_Spend     0.0024      0.001      3.585      0.001       0.001       0.004\n",
      "==============================================================================\n",
      "Omnibus:                        0.620   Durbin-Watson:                   1.674\n",
      "Prob(Omnibus):                  0.734   Jarque-Bera (JB):                0.745\n",
      "Skew:                           0.204   Prob(JB):                        0.689\n",
      "Kurtosis:                       2.562   Cond. No.                     2.07e+04\n",
      "==============================================================================\n",
      "\n",
      "Notes:\n",
      "[1] Standard Errors assume that the covariance matrix of the errors is correctly specified.\n",
      "[2] The condition number is large, 2.07e+04. This might indicate that there are\n",
      "strong multicollinearity or other numerical problems.\n"
     ]
    }
   ],
   "source": [
    "import statsmodels.api as sm\n",
    "\n",
    "# Bağımsız değişkenler (X) ve bağımlı değişken (y)\n",
    "X = df[['Google_Ads_Spend', 'Instagram_Ads_Spend', 'TikTok_Ads_Spend', 'Email_Marketing_Spend']]\n",
    "y = df['Weekly_Sales']\n",
    "\n",
    "# Sabit terim ekliyoruz (const)\n",
    "X = sm.add_constant(X)\n",
    "\n",
    "# Modeli kur\n",
    "model = sm.OLS(y, X).fit()\n",
    "\n",
    "# Sonuçları görüntüle\n",
    "print(model.summary())\n"
   ]
  },
  {
   "cell_type": "code",
   "execution_count": 3,
   "id": "ad7cd5dd",
   "metadata": {},
   "outputs": [
    {
     "name": "stdout",
     "output_type": "stream",
     "text": [
      "f_pvalue: 0.0000000000000000000000000000000000003019713951148691848245826483834376643686148749645892358148249706\n",
      "fvalue: 531.76869531234592614055145531892776489257812500000000\n",
      "t_value:%.2f const    5.391933\n",
      "dtype: float64\n"
     ]
    }
   ],
   "source": [
    "print('f_pvalue:', \"%.100f\" % model.f_pvalue)\n",
    "print('fvalue:', \"%.50f\" % model.fvalue)\n",
    "print('t_value:' '%.2f', model.tvalues[0:1])"
   ]
  },
  {
   "cell_type": "code",
   "execution_count": 5,
   "id": "7a571324",
   "metadata": {},
   "outputs": [
    {
     "data": {
      "image/png": "[encoded data removed]",
      "text/plain": [
       "<Figure size 700x500 with 1 Axes>"
      ]
     },
     "metadata": {},
     "output_type": "display_data"
    },
    {
     "data": {
      "image/png": "[encoded data removed]",
      "text/plain": [
       "<Figure size 700x500 with 1 Axes>"
      ]
     },
     "metadata": {},
     "output_type": "display_data"
    }
   ],
   "source": [
    "import matplotlib.pyplot as plt\n",
    "import seaborn as sns\n",
    "\n",
    "# Gerçek ve tahmin edilen değerler\n",
    "y_pred = model.fittedvalues\n",
    "\n",
    "#Nokta grafiği: Gerçek vs Tahmin\n",
    "plt.figure(figsize=(7,5))\n",
    "sns.scatterplot(x=y, y=y_pred, color='blue', s=60)\n",
    "plt.plot([y.min(), y.max()], [y.min(), y.max()], 'r--', lw=2)  # referans doğru çizgisi\n",
    "plt.xlabel(\"Gerçek Satışlar\")\n",
    "plt.ylabel(\"Tahmin Edilen Satışlar\")\n",
    "plt.title(\"Gerçek vs Tahmin Edilen Satışlar\")\n",
    "plt.show()\n",
    "\n",
    "# Artık (residual) grafiği: Hatalar nasıl dağılmış?\n",
    "residuals = y - y_pred\n",
    "plt.figure(figsize=(7,5))\n",
    "sns.scatterplot(x=y_pred, y=residuals, color='purple', s=60)\n",
    "plt.axhline(0, color='red', linestyle='--')\n",
    "plt.xlabel(\"Tahmin Edilen Satışlar\")\n",
    "plt.ylabel(\"Artık (Hata)\")\n",
    "plt.title(\"Artık Analizi (Model Hataları)\")\n",
    "plt.show()\n"
   ]
  },
  {
   "cell_type": "code",
   "execution_count": 7,
   "id": "3141b414",
   "metadata": {},
   "outputs": [
    {
     "name": "stdout",
     "output_type": "stream",
     "text": [
      "RMSE: 0.884\n"
     ]
    }
   ],
   "source": [
    "from sklearn.metrics import mean_squared_error\n",
    "import numpy as np\n",
    "\n",
    "rmse = np.sqrt(mean_squared_error(y, y_pred))\n",
    "print(f\"RMSE: {rmse:.3f}\")\n",
    "#r2 verinin %98.3'ünü açıklıyor\n",
    "#p-value çok düşük, model anlamlı\n",
    "#t-değerleri yüksek, değişkenler anlamlı\n",
    "#Artık grafiği rastgele dağılmış, model uygun\n",
    "#RMSE düşük, model iyi performans gösteriyor\n",
    "#Sonuç olarak, modelimiz dijital reklam harcamalarının satış üzerindeki etkisini başarılı bir şekilde yakalamış görünüyor.\n",
    "# Modelimiz dijital reklam harcamalarının satış üzerindeki etkisini başarılı bir şekilde yakalamış görünüyor.\n",
    "# Bu, pazarlama stratejilerini optimize etmek ve bütçeleri daha etkili bir şekilde dağıtmak için değerli bilgiler sağlar.\n"
   ]
  },
  {
   "cell_type": "code",
   "execution_count": 8,
   "id": "d31c559b",
   "metadata": {},
   "outputs": [
    {
     "data": {
      "application/vnd.microsoft.datawrangler.viewer.v0+json": {
       "columns": [
        {
         "name": "index",
         "rawType": "object",
         "type": "string"
        },
        {
         "name": "Ortalama Harcama (TL)",
         "rawType": "float64",
         "type": "float"
        },
        {
         "name": "1 TL Başına Satış Artışı",
         "rawType": "float64",
         "type": "float"
        },
        {
         "name": "Tahmini Toplam Katkı",
         "rawType": "float64",
         "type": "float"
        }
       ],
       "ref": "5ae1e9a1-9e99-4406-b3f1-322673c140fb",
       "rows": [
        [
         "Google_Ads_Spend",
         "3012.02",
         "0.003125617715196994",
         "9.414423070527649"
        ],
        [
         "Instagram_Ads_Spend",
         "1831.8",
         "0.005047307238721891",
         "9.24565739989076"
        ],
        [
         "TikTok_Ads_Spend",
         "1240.9",
         "0.004502858832652514",
         "5.587597525438505"
        ],
        [
         "Email_Marketing_Spend",
         "523.56",
         "0.0024473311398136603",
         "1.2813246915608398"
        ]
       ],
       "shape": {
        "columns": 3,
        "rows": 4
       }
      },
      "text/html": [
       "<div>\n",
       "<style scoped>\n",
       "    .dataframe tbody tr th:only-of-type {\n",
       "        vertical-align: middle;\n",
       "    }\n",
       "\n",
       "    .dataframe tbody tr th {\n",
       "        vertical-align: top;\n",
       "    }\n",
       "\n",
       "    .dataframe thead th {\n",
       "        text-align: right;\n",
       "    }\n",
       "</style>\n",
       "<table border=\"1\" class=\"dataframe\">\n",
       "  <thead>\n",
       "    <tr style=\"text-align: right;\">\n",
       "      <th></th>\n",
       "      <th>Ortalama Harcama (TL)</th>\n",
       "      <th>1 TL Başına Satış Artışı</th>\n",
       "      <th>Tahmini Toplam Katkı</th>\n",
       "    </tr>\n",
       "  </thead>\n",
       "  <tbody>\n",
       "    <tr>\n",
       "      <th>Google_Ads_Spend</th>\n",
       "      <td>3012.02</td>\n",
       "      <td>0.003126</td>\n",
       "      <td>9.414423</td>\n",
       "    </tr>\n",
       "    <tr>\n",
       "      <th>Instagram_Ads_Spend</th>\n",
       "      <td>1831.80</td>\n",
       "      <td>0.005047</td>\n",
       "      <td>9.245657</td>\n",
       "    </tr>\n",
       "    <tr>\n",
       "      <th>TikTok_Ads_Spend</th>\n",
       "      <td>1240.90</td>\n",
       "      <td>0.004503</td>\n",
       "      <td>5.587598</td>\n",
       "    </tr>\n",
       "    <tr>\n",
       "      <th>Email_Marketing_Spend</th>\n",
       "      <td>523.56</td>\n",
       "      <td>0.002447</td>\n",
       "      <td>1.281325</td>\n",
       "    </tr>\n",
       "  </tbody>\n",
       "</table>\n",
       "</div>"
      ],
      "text/plain": [
       "                       Ortalama Harcama (TL)  1 TL Başına Satış Artışı  \\\n",
       "Google_Ads_Spend                     3012.02                  0.003126   \n",
       "Instagram_Ads_Spend                  1831.80                  0.005047   \n",
       "TikTok_Ads_Spend                     1240.90                  0.004503   \n",
       "Email_Marketing_Spend                 523.56                  0.002447   \n",
       "\n",
       "                       Tahmini Toplam Katkı  \n",
       "Google_Ads_Spend                   9.414423  \n",
       "Instagram_Ads_Spend                9.245657  \n",
       "TikTok_Ads_Spend                   5.587598  \n",
       "Email_Marketing_Spend              1.281325  "
      ]
     },
     "execution_count": 8,
     "metadata": {},
     "output_type": "execute_result"
    }
   ],
   "source": [
    "roi = model.params[1:]  # sabit hariç katsayılar\n",
    "harcamalar = df[['Google_Ads_Spend','Instagram_Ads_Spend','TikTok_Ads_Spend','Email_Marketing_Spend']].mean()\n",
    "\n",
    "roi_table = pd.DataFrame({\n",
    "    'Ortalama Harcama (TL)': harcamalar,\n",
    "    '1 TL Başına Satış Artışı': roi,\n",
    "    'Tahmini Toplam Katkı': roi * harcamalar\n",
    "})\n",
    "\n",
    "roi_table.sort_values('Tahmini Toplam Katkı', ascending=False)\n"
   ]
  },
  {
   "cell_type": "code",
   "execution_count": 9,
   "id": "5c19cef8",
   "metadata": {},
   "outputs": [],
   "source": [
    "#Yani Google Ads en yüksek katkıyı sağlıyor. Instagram ve TikTok da önemli katkılar sağlıyor. Email Marketing ise en düşük katkıya sahip.\n",
    "# Bu bilgiler, pazarlama bütçesini optimize etmek ve hangi kanallara daha fazla yatırım yapılması gerektiği konusunda rehberlik sağlar.\n",
    "#Google Ads > Instagram Ads > TikTok Ads > Email Marketing\n",
    "#Goodle ads bir tl başına 0.003 tl satış artışı sağlıyor. Instagram ads 0.005 tl satış artışı sağlıyor. TikTok ads 0.004 tl satış artışı sağlıyor. Email marketing 0.002 tl satış artışı sağlıyor.\n"
   ]
  },
  {
   "cell_type": "code",
   "execution_count": 13,
   "id": "dc2a1549",
   "metadata": {},
   "outputs": [
    {
     "name": "stderr",
     "output_type": "stream",
     "text": [
      "C:\\Users\\MSI\\AppData\\Local\\Temp\\ipykernel_3108\\1479475016.py:9: FutureWarning: \n",
      "\n",
      "Passing `palette` without assigning `hue` is deprecated and will be removed in v0.14.0. Assign the `y` variable to `hue` and set `legend=False` for the same effect.\n",
      "\n",
      "  sns.barplot(\n"
     ]
    },
    {
     "data": {
      "image/png": "[encoded data removed]",
      "text/plain": [
       "<Figure size 1200x500 with 1 Axes>"
      ]
     },
     "metadata": {},
     "output_type": "display_data"
    }
   ],
   "source": [
    "#ROI(Yatırım Getirisi) analizi\n",
    "import matplotlib.pyplot as plt\n",
    "import seaborn as sns\n",
    "\n",
    "# Grafiğe uygun hale getirelim\n",
    "roi_table_sorted = roi_table.sort_values('Tahmini Toplam Katkı', ascending=False)\n",
    "\n",
    "plt.figure(figsize=(12,5))\n",
    "sns.barplot(\n",
    "    x=roi_table_sorted['Tahmini Toplam Katkı'],\n",
    "    y=roi_table_sorted.index,\n",
    "    palette=\"viridis\"\n",
    ")\n",
    "\n",
    "plt.title(\"Reklam Kanallarının Tahmini Satış Katkısı\", fontsize=14)\n",
    "plt.xlabel(\"Tahmini Toplam Katkı (Satış Artışı)\")\n",
    "plt.ylabel(\"Reklam Kanalı\")\n",
    "\n",
    "# Her barın ucuna değeri yazdıralım\n",
    "for index, value in enumerate(roi_table_sorted['Tahmini Toplam Katkı']):\n",
    "    plt.text(value + 0.1, index, f\"{value:.2f}\", va='center', fontsize=10)\n",
    "\n",
    "plt.tight_layout()\n",
    "plt.show()\n"
   ]
  },
  {
   "cell_type": "code",
   "execution_count": 16,
   "id": "b631afc6",
   "metadata": {},
   "outputs": [
    {
     "data": {
      "application/vnd.microsoft.datawrangler.viewer.v0+json": {
       "columns": [
        {
         "name": "index",
         "rawType": "object",
         "type": "string"
        },
        {
         "name": "Kanal",
         "rawType": "object",
         "type": "string"
        },
        {
         "name": "1 TL Başına Satış Artışı",
         "rawType": "float64",
         "type": "float"
        },
        {
         "name": "Optimum Bütçe (TL)",
         "rawType": "float64",
         "type": "float"
        }
       ],
       "ref": "856822b1-d962-4f18-804e-8436aca172e0",
       "rows": [
        [
         "Instagram_Ads_Spend",
         "Instagram_Ads_Spend",
         "0.005047307238721891",
         "3337.48"
        ],
        [
         "TikTok_Ads_Spend",
         "TikTok_Ads_Spend",
         "0.004502858832652514",
         "2977.47"
        ],
        [
         "Google_Ads_Spend",
         "Google_Ads_Spend",
         "0.003125617715196994",
         "2066.78"
        ],
        [
         "Email_Marketing_Spend",
         "Email_Marketing_Spend",
         "0.0024473311398136603",
         "1618.27"
        ]
       ],
       "shape": {
        "columns": 3,
        "rows": 4
       }
      },
      "text/html": [
       "<div>\n",
       "<style scoped>\n",
       "    .dataframe tbody tr th:only-of-type {\n",
       "        vertical-align: middle;\n",
       "    }\n",
       "\n",
       "    .dataframe tbody tr th {\n",
       "        vertical-align: top;\n",
       "    }\n",
       "\n",
       "    .dataframe thead th {\n",
       "        text-align: right;\n",
       "    }\n",
       "</style>\n",
       "<table border=\"1\" class=\"dataframe\">\n",
       "  <thead>\n",
       "    <tr style=\"text-align: right;\">\n",
       "      <th></th>\n",
       "      <th>Kanal</th>\n",
       "      <th>1 TL Başına Satış Artışı</th>\n",
       "      <th>Optimum Bütçe (TL)</th>\n",
       "    </tr>\n",
       "  </thead>\n",
       "  <tbody>\n",
       "    <tr>\n",
       "      <th>Instagram_Ads_Spend</th>\n",
       "      <td>Instagram_Ads_Spend</td>\n",
       "      <td>0.005047</td>\n",
       "      <td>3337.48</td>\n",
       "    </tr>\n",
       "    <tr>\n",
       "      <th>TikTok_Ads_Spend</th>\n",
       "      <td>TikTok_Ads_Spend</td>\n",
       "      <td>0.004503</td>\n",
       "      <td>2977.47</td>\n",
       "    </tr>\n",
       "    <tr>\n",
       "      <th>Google_Ads_Spend</th>\n",
       "      <td>Google_Ads_Spend</td>\n",
       "      <td>0.003126</td>\n",
       "      <td>2066.78</td>\n",
       "    </tr>\n",
       "    <tr>\n",
       "      <th>Email_Marketing_Spend</th>\n",
       "      <td>Email_Marketing_Spend</td>\n",
       "      <td>0.002447</td>\n",
       "      <td>1618.27</td>\n",
       "    </tr>\n",
       "  </tbody>\n",
       "</table>\n",
       "</div>"
      ],
      "text/plain": [
       "                                       Kanal  1 TL Başına Satış Artışı  \\\n",
       "Instagram_Ads_Spend      Instagram_Ads_Spend                  0.005047   \n",
       "TikTok_Ads_Spend            TikTok_Ads_Spend                  0.004503   \n",
       "Google_Ads_Spend            Google_Ads_Spend                  0.003126   \n",
       "Email_Marketing_Spend  Email_Marketing_Spend                  0.002447   \n",
       "\n",
       "                       Optimum Bütçe (TL)  \n",
       "Instagram_Ads_Spend               3337.48  \n",
       "TikTok_Ads_Spend                  2977.47  \n",
       "Google_Ads_Spend                  2066.78  \n",
       "Email_Marketing_Spend             1618.27  "
      ]
     },
     "execution_count": 16,
     "metadata": {},
     "output_type": "execute_result"
    }
   ],
   "source": [
    "#Bütçe optimizasyonu önerisi\n",
    "# Mevcut bütçeyi en yüksek katkı sağlayan kanallara kaydırmak mantıklı olabilir.\n",
    "# Örneğin, Google Ads ve Instagram Ads'e daha fazla yatırım yaparken, Email Marketing bütçesini azaltmak düşünülebilir.\n",
    "\n",
    "# Toplam bütçe (örnek: 10.000 TL)\n",
    "total_budget = 10000\n",
    "\n",
    "# ROI oranlarını normalize ederek bütçe paylarını hesapla\n",
    "weights = roi_table['1 TL Başına Satış Artışı'] / roi_table['1 TL Başına Satış Artışı'].sum()\n",
    "optimal_allocation = weights * total_budget\n",
    "\n",
    "# Sonuçları tablo haline getir\n",
    "allocation_table = pd.DataFrame({\n",
    "    'Kanal': roi_table.index,\n",
    "    '1 TL Başına Satış Artışı': roi_table['1 TL Başına Satış Artışı'],\n",
    "    'Optimum Bütçe (TL)': optimal_allocation.round(2)\n",
    "}).sort_values('Optimum Bütçe (TL)', ascending=False)\n",
    "\n",
    "allocation_table\n",
    "\n",
    "#Görünüşte google en çok satış getiriyor ama bir tl başına roi düşük. Instagram en yüksek roi sağlıyor. TikTok ikinci en yüksek roi sağlıyor. Email marketing en düşük roi sağlıyor.\n",
    "# Bu nedenle, bütçeyi en yüksek roi sağlayan kanallara kaydırmak daha mantıklı olabilir.\n",
    "#Ayrıca etki gücü != verimlilik olduğunu unutmayın.\n",
    "#Örneğin google ads en çok satış getiriyor ama bir tl başına roi düşük. Instagram en yüksek roi sağlıyor. TikTok ikinci en yüksek roi sağlıyor. Email marketing en düşük roi sağlıyor.\n",
    "\n",
    "# Google → Ferrari: Hızlı ama yakıtı fazla yakıyor.\n",
    "# Instagram → Tesla: Daha az yakıtla neredeyse aynı hıza ulaşıyor."
   ]
  },
  {
   "cell_type": "code",
   "execution_count": null,
   "id": "dfd6184f",
   "metadata": {},
   "outputs": [],
   "source": []
  }
 ],
 "metadata": {
  "kernelspec": {
   "display_name": "Python 3",
   "language": "python",
   "name": "python3"
  },
  "language_info": {
   "codemirror_mode": {
    "name": "ipython",
    "version": 3
   },
   "file_extension": ".py",
   "mimetype": "text/x-python",
   "name": "python",
   "nbconvert_exporter": "python",
   "pygments_lexer": "ipython3",
   "version": "3.12.3"
  }
 },
 "nbformat": 4,
 "nbformat_minor": 5
}
