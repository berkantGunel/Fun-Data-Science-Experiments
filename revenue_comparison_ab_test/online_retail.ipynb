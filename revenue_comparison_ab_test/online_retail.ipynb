{
 "cells": [
  {
   "cell_type": "markdown",
   "id": "52cdaff9",
   "metadata": {},
   "source": [
    "# **Online Retail A/B Test (Revenue Comparison)**"
   ]
  },
  {
   "cell_type": "markdown",
   "id": "02d4e1d8",
   "metadata": {},
   "source": [
    "#### Step 1: We install the necessary libs."
   ]
  },
  {
   "cell_type": "code",
   "execution_count": 4,
   "id": "fcb20c06",
   "metadata": {},
   "outputs": [
    {
     "name": "stdout",
     "output_type": "stream",
     "text": [
      "Libs uploaded!\n"
     ]
    }
   ],
   "source": [
    "import pandas as pd\n",
    "import numpy as np\n",
    "import matplotlib.pyplot as plt\n",
    "import seaborn as sns\n",
    "from scipy import stats\n",
    "\n",
    "sns.set(style=\"whitegrid\")\n",
    "\n",
    "print(\"Libs uploaded!\")\n",
    "#If libs are not installed, run the following commands:\n",
    "#!pip install pandas numpy matplotlib seaborn scipy\n"
   ]
  },
  {
   "cell_type": "markdown",
   "id": "d9e2a3e6",
   "metadata": {},
   "source": [
    "### Step 2:Loading dataset"
   ]
  },
  {
   "cell_type": "code",
   "execution_count": 6,
   "id": "eaeacdb5",
   "metadata": {},
   "outputs": [
    {
     "data": {
      "text/html": [
       "<div>\n",
       "<style scoped>\n",
       "    .dataframe tbody tr th:only-of-type {\n",
       "        vertical-align: middle;\n",
       "    }\n",
       "\n",
       "    .dataframe tbody tr th {\n",
       "        vertical-align: top;\n",
       "    }\n",
       "\n",
       "    .dataframe thead th {\n",
       "        text-align: right;\n",
       "    }\n",
       "</style>\n",
       "<table border=\"1\" class=\"dataframe\">\n",
       "  <thead>\n",
       "    <tr style=\"text-align: right;\">\n",
       "      <th></th>\n",
       "      <th>InvoiceNo</th>\n",
       "      <th>StockCode</th>\n",
       "      <th>Description</th>\n",
       "      <th>Quantity</th>\n",
       "      <th>InvoiceDate</th>\n",
       "      <th>UnitPrice</th>\n",
       "      <th>CustomerID</th>\n",
       "      <th>Country</th>\n",
       "    </tr>\n",
       "  </thead>\n",
       "  <tbody>\n",
       "    <tr>\n",
       "      <th>0</th>\n",
       "      <td>536365</td>\n",
       "      <td>85123A</td>\n",
       "      <td>WHITE HANGING HEART T-LIGHT HOLDER</td>\n",
       "      <td>6</td>\n",
       "      <td>12/1/2010 8:26</td>\n",
       "      <td>2.55</td>\n",
       "      <td>17850.0</td>\n",
       "      <td>United Kingdom</td>\n",
       "    </tr>\n",
       "    <tr>\n",
       "      <th>1</th>\n",
       "      <td>536365</td>\n",
       "      <td>71053</td>\n",
       "      <td>WHITE METAL LANTERN</td>\n",
       "      <td>6</td>\n",
       "      <td>12/1/2010 8:26</td>\n",
       "      <td>3.39</td>\n",
       "      <td>17850.0</td>\n",
       "      <td>United Kingdom</td>\n",
       "    </tr>\n",
       "    <tr>\n",
       "      <th>2</th>\n",
       "      <td>536365</td>\n",
       "      <td>84406B</td>\n",
       "      <td>CREAM CUPID HEARTS COAT HANGER</td>\n",
       "      <td>8</td>\n",
       "      <td>12/1/2010 8:26</td>\n",
       "      <td>2.75</td>\n",
       "      <td>17850.0</td>\n",
       "      <td>United Kingdom</td>\n",
       "    </tr>\n",
       "    <tr>\n",
       "      <th>3</th>\n",
       "      <td>536365</td>\n",
       "      <td>84029G</td>\n",
       "      <td>KNITTED UNION FLAG HOT WATER BOTTLE</td>\n",
       "      <td>6</td>\n",
       "      <td>12/1/2010 8:26</td>\n",
       "      <td>3.39</td>\n",
       "      <td>17850.0</td>\n",
       "      <td>United Kingdom</td>\n",
       "    </tr>\n",
       "    <tr>\n",
       "      <th>4</th>\n",
       "      <td>536365</td>\n",
       "      <td>84029E</td>\n",
       "      <td>RED WOOLLY HOTTIE WHITE HEART.</td>\n",
       "      <td>6</td>\n",
       "      <td>12/1/2010 8:26</td>\n",
       "      <td>3.39</td>\n",
       "      <td>17850.0</td>\n",
       "      <td>United Kingdom</td>\n",
       "    </tr>\n",
       "  </tbody>\n",
       "</table>\n",
       "</div>"
      ],
      "text/plain": [
       "  InvoiceNo StockCode                          Description  Quantity  \\\n",
       "0    536365    85123A   WHITE HANGING HEART T-LIGHT HOLDER         6   \n",
       "1    536365     71053                  WHITE METAL LANTERN         6   \n",
       "2    536365    84406B       CREAM CUPID HEARTS COAT HANGER         8   \n",
       "3    536365    84029G  KNITTED UNION FLAG HOT WATER BOTTLE         6   \n",
       "4    536365    84029E       RED WOOLLY HOTTIE WHITE HEART.         6   \n",
       "\n",
       "      InvoiceDate  UnitPrice  CustomerID         Country  \n",
       "0  12/1/2010 8:26       2.55     17850.0  United Kingdom  \n",
       "1  12/1/2010 8:26       3.39     17850.0  United Kingdom  \n",
       "2  12/1/2010 8:26       2.75     17850.0  United Kingdom  \n",
       "3  12/1/2010 8:26       3.39     17850.0  United Kingdom  \n",
       "4  12/1/2010 8:26       3.39     17850.0  United Kingdom  "
      ]
     },
     "execution_count": 6,
     "metadata": {},
     "output_type": "execute_result"
    }
   ],
   "source": [
    "data = pd.read_csv(\"data.csv\", encoding='latin1')\n",
    "data.head()"
   ]
  },
  {
   "cell_type": "markdown",
   "id": "d15f0677",
   "metadata": {},
   "source": [
    "### Step 3:DataSet Analyse"
   ]
  },
  {
   "cell_type": "code",
   "execution_count": 7,
   "id": "a8c299da",
   "metadata": {},
   "outputs": [
    {
     "name": "stdout",
     "output_type": "stream",
     "text": [
      "Data size: (541909, 8)\n",
      "Missing values in each column:\n",
      "InvoiceNo           0\n",
      "StockCode           0\n",
      "Description      1454\n",
      "Quantity            0\n",
      "InvoiceDate         0\n",
      "UnitPrice           0\n",
      "CustomerID     135080\n",
      "Country             0\n",
      "dtype: int64\n"
     ]
    },
    {
     "data": {
      "text/html": [
       "<div>\n",
       "<style scoped>\n",
       "    .dataframe tbody tr th:only-of-type {\n",
       "        vertical-align: middle;\n",
       "    }\n",
       "\n",
       "    .dataframe tbody tr th {\n",
       "        vertical-align: top;\n",
       "    }\n",
       "\n",
       "    .dataframe thead th {\n",
       "        text-align: right;\n",
       "    }\n",
       "</style>\n",
       "<table border=\"1\" class=\"dataframe\">\n",
       "  <thead>\n",
       "    <tr style=\"text-align: right;\">\n",
       "      <th></th>\n",
       "      <th>InvoiceNo</th>\n",
       "      <th>StockCode</th>\n",
       "      <th>Description</th>\n",
       "      <th>Quantity</th>\n",
       "      <th>InvoiceDate</th>\n",
       "      <th>UnitPrice</th>\n",
       "      <th>CustomerID</th>\n",
       "      <th>Country</th>\n",
       "    </tr>\n",
       "  </thead>\n",
       "  <tbody>\n",
       "    <tr>\n",
       "      <th>404007</th>\n",
       "      <td>571665</td>\n",
       "      <td>22952</td>\n",
       "      <td>60 CAKE CASES VINTAGE CHRISTMAS</td>\n",
       "      <td>24</td>\n",
       "      <td>10/18/2011 12:59</td>\n",
       "      <td>0.55</td>\n",
       "      <td>12540.0</td>\n",
       "      <td>Spain</td>\n",
       "    </tr>\n",
       "    <tr>\n",
       "      <th>62188</th>\n",
       "      <td>541497</td>\n",
       "      <td>21709</td>\n",
       "      <td>FOLDING UMBRELLA CHOCOLATE POLKADOT</td>\n",
       "      <td>3</td>\n",
       "      <td>1/18/2011 15:19</td>\n",
       "      <td>3.29</td>\n",
       "      <td>NaN</td>\n",
       "      <td>United Kingdom</td>\n",
       "    </tr>\n",
       "    <tr>\n",
       "      <th>488297</th>\n",
       "      <td>577808</td>\n",
       "      <td>22727</td>\n",
       "      <td>ALARM CLOCK BAKELIKE RED</td>\n",
       "      <td>4</td>\n",
       "      <td>11/22/2011 8:28</td>\n",
       "      <td>3.75</td>\n",
       "      <td>13403.0</td>\n",
       "      <td>United Kingdom</td>\n",
       "    </tr>\n",
       "    <tr>\n",
       "      <th>246608</th>\n",
       "      <td>558709</td>\n",
       "      <td>23092</td>\n",
       "      <td>LARGE ANTIQUE WHITE PHOTO FRAME</td>\n",
       "      <td>2</td>\n",
       "      <td>7/1/2011 13:02</td>\n",
       "      <td>7.90</td>\n",
       "      <td>17338.0</td>\n",
       "      <td>United Kingdom</td>\n",
       "    </tr>\n",
       "    <tr>\n",
       "      <th>135324</th>\n",
       "      <td>547892</td>\n",
       "      <td>22949</td>\n",
       "      <td>36 DOILIES DOLLY GIRL</td>\n",
       "      <td>12</td>\n",
       "      <td>3/28/2011 10:15</td>\n",
       "      <td>1.45</td>\n",
       "      <td>12669.0</td>\n",
       "      <td>France</td>\n",
       "    </tr>\n",
       "  </tbody>\n",
       "</table>\n",
       "</div>"
      ],
      "text/plain": [
       "       InvoiceNo StockCode                          Description  Quantity  \\\n",
       "404007    571665     22952      60 CAKE CASES VINTAGE CHRISTMAS        24   \n",
       "62188     541497     21709  FOLDING UMBRELLA CHOCOLATE POLKADOT         3   \n",
       "488297    577808     22727            ALARM CLOCK BAKELIKE RED          4   \n",
       "246608    558709     23092      LARGE ANTIQUE WHITE PHOTO FRAME         2   \n",
       "135324    547892     22949                36 DOILIES DOLLY GIRL        12   \n",
       "\n",
       "             InvoiceDate  UnitPrice  CustomerID         Country  \n",
       "404007  10/18/2011 12:59       0.55     12540.0           Spain  \n",
       "62188    1/18/2011 15:19       3.29         NaN  United Kingdom  \n",
       "488297   11/22/2011 8:28       3.75     13403.0  United Kingdom  \n",
       "246608    7/1/2011 13:02       7.90     17338.0  United Kingdom  \n",
       "135324   3/28/2011 10:15       1.45     12669.0          France  "
      ]
     },
     "execution_count": 7,
     "metadata": {},
     "output_type": "execute_result"
    }
   ],
   "source": [
    "print(\"Data size:\", data.shape)\n",
    "print(\"Missing values in each column:\")\n",
    "print(data.isnull().sum())\n",
    "\n",
    "# İlk birkaç satır\n",
    "data.sample(5)\n"
   ]
  },
  {
   "cell_type": "markdown",
   "id": "e801d45e",
   "metadata": {},
   "source": [
    "### Step 4:Data Celaning"
   ]
  },
  {
   "cell_type": "code",
   "execution_count": 9,
   "id": "06008c43",
   "metadata": {},
   "outputs": [
    {
     "data": {
      "text/html": [
       "<div>\n",
       "<style scoped>\n",
       "    .dataframe tbody tr th:only-of-type {\n",
       "        vertical-align: middle;\n",
       "    }\n",
       "\n",
       "    .dataframe tbody tr th {\n",
       "        vertical-align: top;\n",
       "    }\n",
       "\n",
       "    .dataframe thead th {\n",
       "        text-align: right;\n",
       "    }\n",
       "</style>\n",
       "<table border=\"1\" class=\"dataframe\">\n",
       "  <thead>\n",
       "    <tr style=\"text-align: right;\">\n",
       "      <th></th>\n",
       "      <th>InvoiceNo</th>\n",
       "      <th>StockCode</th>\n",
       "      <th>Description</th>\n",
       "      <th>Quantity</th>\n",
       "      <th>InvoiceDate</th>\n",
       "      <th>UnitPrice</th>\n",
       "      <th>CustomerID</th>\n",
       "      <th>Country</th>\n",
       "      <th>TotalPrice</th>\n",
       "    </tr>\n",
       "  </thead>\n",
       "  <tbody>\n",
       "    <tr>\n",
       "      <th>0</th>\n",
       "      <td>536365</td>\n",
       "      <td>85123A</td>\n",
       "      <td>WHITE HANGING HEART T-LIGHT HOLDER</td>\n",
       "      <td>6</td>\n",
       "      <td>12/1/2010 8:26</td>\n",
       "      <td>2.55</td>\n",
       "      <td>17850.0</td>\n",
       "      <td>United Kingdom</td>\n",
       "      <td>15.30</td>\n",
       "    </tr>\n",
       "    <tr>\n",
       "      <th>1</th>\n",
       "      <td>536365</td>\n",
       "      <td>71053</td>\n",
       "      <td>WHITE METAL LANTERN</td>\n",
       "      <td>6</td>\n",
       "      <td>12/1/2010 8:26</td>\n",
       "      <td>3.39</td>\n",
       "      <td>17850.0</td>\n",
       "      <td>United Kingdom</td>\n",
       "      <td>20.34</td>\n",
       "    </tr>\n",
       "    <tr>\n",
       "      <th>2</th>\n",
       "      <td>536365</td>\n",
       "      <td>84406B</td>\n",
       "      <td>CREAM CUPID HEARTS COAT HANGER</td>\n",
       "      <td>8</td>\n",
       "      <td>12/1/2010 8:26</td>\n",
       "      <td>2.75</td>\n",
       "      <td>17850.0</td>\n",
       "      <td>United Kingdom</td>\n",
       "      <td>22.00</td>\n",
       "    </tr>\n",
       "    <tr>\n",
       "      <th>3</th>\n",
       "      <td>536365</td>\n",
       "      <td>84029G</td>\n",
       "      <td>KNITTED UNION FLAG HOT WATER BOTTLE</td>\n",
       "      <td>6</td>\n",
       "      <td>12/1/2010 8:26</td>\n",
       "      <td>3.39</td>\n",
       "      <td>17850.0</td>\n",
       "      <td>United Kingdom</td>\n",
       "      <td>20.34</td>\n",
       "    </tr>\n",
       "    <tr>\n",
       "      <th>4</th>\n",
       "      <td>536365</td>\n",
       "      <td>84029E</td>\n",
       "      <td>RED WOOLLY HOTTIE WHITE HEART.</td>\n",
       "      <td>6</td>\n",
       "      <td>12/1/2010 8:26</td>\n",
       "      <td>3.39</td>\n",
       "      <td>17850.0</td>\n",
       "      <td>United Kingdom</td>\n",
       "      <td>20.34</td>\n",
       "    </tr>\n",
       "  </tbody>\n",
       "</table>\n",
       "</div>"
      ],
      "text/plain": [
       "  InvoiceNo StockCode                          Description  Quantity  \\\n",
       "0    536365    85123A   WHITE HANGING HEART T-LIGHT HOLDER         6   \n",
       "1    536365     71053                  WHITE METAL LANTERN         6   \n",
       "2    536365    84406B       CREAM CUPID HEARTS COAT HANGER         8   \n",
       "3    536365    84029G  KNITTED UNION FLAG HOT WATER BOTTLE         6   \n",
       "4    536365    84029E       RED WOOLLY HOTTIE WHITE HEART.         6   \n",
       "\n",
       "      InvoiceDate  UnitPrice  CustomerID         Country  TotalPrice  \n",
       "0  12/1/2010 8:26       2.55     17850.0  United Kingdom       15.30  \n",
       "1  12/1/2010 8:26       3.39     17850.0  United Kingdom       20.34  \n",
       "2  12/1/2010 8:26       2.75     17850.0  United Kingdom       22.00  \n",
       "3  12/1/2010 8:26       3.39     17850.0  United Kingdom       20.34  \n",
       "4  12/1/2010 8:26       3.39     17850.0  United Kingdom       20.34  "
      ]
     },
     "execution_count": 9,
     "metadata": {},
     "output_type": "execute_result"
    }
   ],
   "source": [
    "data = data.dropna(subset=[\"CustomerID\"])\n",
    "data = data[data[\"Quantity\"] > 0]\n",
    "data = data[data[\"UnitPrice\"] > 0]\n",
    "\n",
    "# Create a new column for total price\n",
    "data[\"TotalPrice\"] = data[\"Quantity\"] * data[\"UnitPrice\"]\n",
    "data.head()"
   ]
  },
  {
   "cell_type": "markdown",
   "id": "56f27359",
   "metadata": {},
   "source": [
    "### Step 5:Income Comparison by Country"
   ]
  },
  {
   "cell_type": "code",
   "execution_count": 11,
   "id": "7f440bf7",
   "metadata": {},
   "outputs": [
    {
     "name": "stdout",
     "output_type": "stream",
     "text": [
      "UK sample count: 354321\n",
      "Germany sample count: 9040\n"
     ]
    }
   ],
   "source": [
    "A = data[data[\"Country\"] == \"United Kingdom\"][\"TotalPrice\"]\n",
    "B = data[data[\"Country\"] == \"Germany\"][\"TotalPrice\"]\n",
    "\n",
    "print(f\"UK sample count: {len(A)}\")\n",
    "print(f\"Germany sample count: {len(B)}\")\n"
   ]
  },
  {
   "cell_type": "markdown",
   "id": "f45f69e1",
   "metadata": {},
   "source": [
    "### Step 6: Income Distributions"
   ]
  },
  {
   "cell_type": "code",
   "execution_count": 12,
   "id": "72970839",
   "metadata": {},
   "outputs": [
    {
     "data": {
      "image/png": "[encoded data removed]",
      "text/plain": [
       "<Figure size 1000x500 with 1 Axes>"
      ]
     },
     "metadata": {},
     "output_type": "display_data"
    }
   ],
   "source": [
    "plt.figure(figsize=(10,5))\n",
    "sns.histplot(A, bins=100, color='blue', label='UK', kde=True)\n",
    "sns.histplot(B, bins=100, color='orange', label='Germany', kde=True)\n",
    "plt.xlim(0, 1000)\n",
    "plt.title(\"Revenue Distribution by Country\")\n",
    "plt.legend()\n",
    "plt.show()\n"
   ]
  },
  {
   "cell_type": "markdown",
   "id": "1eecac2a",
   "metadata": {},
   "source": [
    "### Step 7:t-test"
   ]
  },
  {
   "cell_type": "code",
   "execution_count": 14,
   "id": "3444a0bd",
   "metadata": {},
   "outputs": [
    {
     "name": "stdout",
     "output_type": "stream",
     "text": [
      "T istatistiği: -7.078\n",
      "P-değeri: 0.00000\n",
      "Difference is statistically significant.\n"
     ]
    }
   ],
   "source": [
    "t_stat, p_val = stats.ttest_ind(A, B, equal_var=False)\n",
    "\n",
    "print(f\"T istatistiği: {t_stat:.3f}\")\n",
    "print(f\"P-değeri: {p_val:.5f}\")\n",
    "\n",
    "if p_val < 0.05:\n",
    "    print(\"Difference is statistically significant.\")\n",
    "else:\n",
    "    print(\"Difference is not statistically significant.\")\n"
   ]
  },
  {
   "cell_type": "markdown",
   "id": "e24eb78f",
   "metadata": {},
   "source": [
    "### Step 8: Cohen's d"
   ]
  },
  {
   "cell_type": "code",
   "execution_count": 19,
   "id": "ca7a38e7",
   "metadata": {},
   "outputs": [
    {
     "name": "stdout",
     "output_type": "stream",
     "text": [
      "UK avarage income: 20.626470217683966\n",
      "Germany avarage income: 25.31716150442478\n",
      "Lift: 22.741124570694993%\n",
      "Cohen's d: 0.02022654966109555\n"
     ]
    }
   ],
   "source": [
    "mean_A, mean_B = A.mean(), B.mean()\n",
    "std_pooled = np.sqrt((A.var() + B.var()) / 2)\n",
    "cohen_d = (mean_B - mean_A) / std_pooled\n",
    "lift = (mean_B / mean_A - 1) * 100\n",
    "\n",
    "print(f\"UK avarage income: {mean_A}\")\n",
    "print(f\"Germany avarage income: {mean_B}\")\n",
    "print(f\"Lift: {lift}%\")\n",
    "print(f\"Cohen's d: {cohen_d}\")\n"
   ]
  },
  {
   "cell_type": "markdown",
   "id": "dd1ed5ac",
   "metadata": {},
   "source": [
    "### Step 9: Bootstrap Confidence Interval"
   ]
  },
  {
   "cell_type": "code",
   "execution_count": 21,
   "id": "31a58cd2",
   "metadata": {},
   "outputs": [
    {
     "data": {
      "image/png": "[encoded data removed]",
      "text/plain": [
       "<Figure size 800x400 with 1 Axes>"
      ]
     },
     "metadata": {},
     "output_type": "display_data"
    },
    {
     "name": "stdout",
     "output_type": "stream",
     "text": [
      "95% Confidence Interval: [3.23901780563367, 5.864767657554425]\n"
     ]
    }
   ],
   "source": [
    "boot_diffs = []\n",
    "for _ in range(3000):\n",
    "    sample_A = np.random.choice(A, size=len(A), replace=True)\n",
    "    sample_B = np.random.choice(B, size=len(B), replace=True)\n",
    "    boot_diffs.append(sample_B.mean() - sample_A.mean())\n",
    "\n",
    "ci_low, ci_high = np.percentile(boot_diffs, [2.5, 97.5])\n",
    "\n",
    "plt.figure(figsize=(8,4))\n",
    "sns.histplot(boot_diffs, bins=40, kde=True)\n",
    "plt.axvline(ci_low, color='red', linestyle='--', label=f'CI Low: {ci_low}')\n",
    "plt.axvline(ci_high, color='red', linestyle='--', label=f'CI High: {ci_high}')\n",
    "plt.legend()\n",
    "plt.title(\"Bootstrap Distribution of Mean Difference\")\n",
    "plt.show()\n",
    "\n",
    "print(f\"95% Confidence Interval: [{ci_low}, {ci_high}]\")\n"
   ]
  },
  {
   "cell_type": "code",
   "execution_count": null,
   "id": "185f5d1c",
   "metadata": {},
   "outputs": [],
   "source": []
  }
 ],
 "metadata": {
  "kernelspec": {
   "display_name": "base",
   "language": "python",
   "name": "python3"
  },
  "language_info": {
   "codemirror_mode": {
    "name": "ipython",
    "version": 3
   },
   "file_extension": ".py",
   "mimetype": "text/x-python",
   "name": "python",
   "nbconvert_exporter": "python",
   "pygments_lexer": "ipython3",
   "version": "3.12.4"
  }
 },
 "nbformat": 4,
 "nbformat_minor": 5
}
